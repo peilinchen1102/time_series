{
 "cells": [
  {
   "cell_type": "code",
   "execution_count": 3,
   "metadata": {},
   "outputs": [],
   "source": [
    "import torch\n",
    "from src.utils import load_data, pad_window_interval\n",
    "from src.tokenization import tokenize\n",
    "from src.positional_encoding import positional_encoding\n",
    "import src.transformer_model\n",
    "from src.change_points import detect_changes\n",
    "from torch.nn.utils.rnn import pad_sequence\n",
    "import torch.nn as nn\n",
    "import torch.optim as optim\n",
    "from tqdm import tqdm\n",
    "from torch.utils.data import Dataset, DataLoader\n",
    "from src.dataset import PTBXL\n",
    "import numpy as np\n",
    "from numpy.typing import NDArray\n",
    "import pandas as pd\n",
    "import ruptures as rpt\n",
    "import matplotlib.cm as cm\n",
    "import matplotlib.pyplot as plt\n",
    "import pandas as"
   ]
  },
  {
   "cell_type": "markdown",
   "metadata": {},
   "source": [
    "# Load Dataset"
   ]
  },
  {
   "cell_type": "code",
   "execution_count": 4,
   "metadata": {},
   "outputs": [
    {
     "name": "stdout",
     "output_type": "stream",
     "text": [
      "tensor([0, 1, 2, 3, 4])\n"
     ]
    }
   ],
   "source": [
    "path = './dataset/ecg/WFDB_PTBXL/ptbxl/'\n",
    "sampling_rate=100\n",
    "X_train, y_train, X_test, y_test = load_data(path, sampling_rate)\n",
    "\n",
    "# preprocess data without labels\n",
    "mask = y_train.apply(lambda x: isinstance(x, list) and len(x) > 0)\n",
    "y_train = y_train[mask]\n",
    "X_train = X_train[mask]\n",
    "y_train = y_train.apply(lambda x: x[0]).astype('category')\n",
    "y_train = torch.tensor(y_train.cat.codes.values, dtype=torch.long)\n",
    "\n",
    "print(torch.unique(y_train))"
   ]
  },
  {
   "cell_type": "markdown",
   "metadata": {},
   "source": [
    "# Visualize"
   ]
  },
  {
   "cell_type": "code",
   "execution_count": 5,
   "metadata": {},
   "outputs": [],
   "source": [
    "def detect_changes(time_series: NDArray):\n",
    "\n",
    "    # use 'l2', better for multivariate data\n",
    "    algo = rpt.Pelt(model=\"rbf\", min_size=10, jump=20).fit(time_series)\n",
    "    result = algo.predict(pen=5)\n",
    "\n",
    "    change_points = [i for i in result if i < len(time_series)]\n",
    "    return change_points"
   ]
  },
  {
   "cell_type": "code",
   "execution_count": 6,
   "metadata": {},
   "outputs": [],
   "source": [
    "ECG_LABELS = [\"I\", \"II\", \"III\", \"aVR\", \"aVL\", \"aVF\", \"V1\", \"V2\", \"V3\", \"V4\", \"V5\", \"V6\"]"
   ]
  },
  {
   "cell_type": "code",
   "execution_count": null,
   "metadata": {},
   "outputs": [],
   "source": [
    "for time_series_idx, time_series in enumerate(X_train[0:1]):\n",
    "\n",
    "    # Create a figure with subplots (12 channels in a single column)\n",
    "    fig, axs = plt.subplots(12, 1, figsize=(12, 12), sharey=True)\n",
    "    plt.rcParams.update({'font.family': 'Times New Roman'})\n",
    "\n",
    "    change_points = detect_changes(time_series)\n",
    "    # change_points = [10, 20, 30, 40, 50, 60, 70, 80, 90, 100, 110, 120, 130, 140, 150]\n",
    "\n",
    "    # Loop through each of the 12 ECG channels\n",
    "    for i in range(time_series.shape[1]):\n",
    "        channel_data = time_series[:, i] # Extract data for the i-th channel (lead)\n",
    "        axs[i].plot(channel_data, label=f\"Channel {i+1}\", color='#d62728')\n",
    "        \n",
    "        # Add vertical lines for each detected change point\n",
    "        for cp in change_points:\n",
    "            axs[i].axvline(x=cp, color='#1f77b4', label=f\"Change Point {cp}\" if i == 0 else \"\")\n",
    "\n",
    "        if i == 11:\n",
    "            axs[i].set_xlabel('Time')\n",
    "        else:\n",
    "            axs[i].tick_params(axis='x', which='both', bottom=False, labelbottom=False)  # Remove x-axis ticks\n",
    "\n",
    "        axs[i].set_ylabel(ECG_LABELS[i], rotation=0, labelpad=10)\n",
    "        axs[i].yaxis.set_label_coords(0.02, 0) \n",
    "\n",
    "    # Adjust layout to avoid overlap\n",
    "    plt.tight_layout(rect=[0, 0, 1, 0.96])  # Leave space for the main title\n",
    "    fig.text(-0.02, 0.5, 'Amplitude', va='center', rotation='vertical', fontsize=14)\n",
    "    \n",
    "    # Show the plot for the current time series\n",
    "    plt.savefig(\"ecg_plot.png\", format=\"png\", dpi=300, bbox_inches='tight')\n",
    "    plt.show()"
   ]
  }
 ],
 "metadata": {
  "kernelspec": {
   "display_name": "Python 3",
   "language": "python",
   "name": "python3"
  },
  "language_info": {
   "codemirror_mode": {
    "name": "ipython",
    "version": 3
   },
   "file_extension": ".py",
   "mimetype": "text/x-python",
   "name": "python",
   "nbconvert_exporter": "python",
   "pygments_lexer": "ipython3",
   "version": "3.11.9"
  }
 },
 "nbformat": 4,
 "nbformat_minor": 2
}
